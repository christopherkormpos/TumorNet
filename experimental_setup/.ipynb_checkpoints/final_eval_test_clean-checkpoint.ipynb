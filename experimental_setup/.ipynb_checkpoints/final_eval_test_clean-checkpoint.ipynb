{
 "cells": [
  {
   "cell_type": "code",
   "execution_count": 1,
   "id": "75dc28b3",
   "metadata": {},
   "outputs": [],
   "source": [
    "import os\n",
    "import cv2\n",
    "import shutil\n",
    "import random\n",
    "import numpy as np\n",
    "import glob\n",
    "import pathlib \n",
    "import random\n",
    "from PIL import Image\n",
    "from IPython.display import display\n",
    "import matplotlib.pyplot as plt \n",
    "import hashlib"
   ]
  },
  {
   "cell_type": "code",
   "execution_count": 8,
   "id": "a7d8aa69",
   "metadata": {},
   "outputs": [],
   "source": [
    "#Data from layer 1\n",
    "irrelevant_path = './final_dataset1/test/irrelevant_data'\n",
    "\n",
    "#Data from layer 2\n",
    "benign_path = './Dataset_BUSI_with_GT/test/benign'\n",
    "malignant_path = './Dataset_BUSI_with_GT/test/malignant'\n",
    "normal_path = './Dataset_BUSI_with_GT/test/normal'\n",
    "\n",
    "os.mkdir('evaluation')\n",
    "os.mkdir(os.path.join(\"evaluation/test\", \"irrelevant\"))\n",
    "os.mkdir(os.path.join(\"evaluation/test\", \"benign\")) \n",
    "os.mkdir(os.path.join(\"evaluation/test\", \"normal\")) \n",
    "os.mkdir(os.path.join(\"evaluation/test\", \"malignant\"))"
   ]
  },
  {
   "cell_type": "code",
   "execution_count": 9,
   "id": "142b8f29",
   "metadata": {},
   "outputs": [],
   "source": [
    "ipath = './evaluation/test/irrelevant'\n",
    "bpath = './evaluation/test/benign'\n",
    "mpath = './evaluation/test/malignant'\n",
    "npath = './evaluation/test/normal'\n",
    "\n",
    "benign_images = glob.glob(os.path.join(benign_path, \"*.png\"))\n",
    "malignant_images = glob.glob(os.path.join(malignant_path, \"*.png\"))\n",
    "normal_images = glob.glob(os.path.join(normal_path, \"*.png\"))\n",
    "\n",
    "for image in benign_images:\n",
    "    shutil.copy(image, bpath)\n",
    "for image in malignant_images:\n",
    "    shutil.copy(image, mpath)\n",
    "for image in normal_images:\n",
    "    shutil.copy(image, npath)"
   ]
  },
  {
   "cell_type": "code",
   "execution_count": 10,
   "id": "4fc62bd0",
   "metadata": {},
   "outputs": [],
   "source": [
    "irrelevant_images = []\n",
    "for ext in (\"*.png\", \"*.jpg\", \"*.jpeg\"):\n",
    "    irrelevant_images.extend(glob.glob(os.path.join(irrelevant_path, ext)))\n",
    "\n",
    "irr_175 = random.sample(irrelevant_images, 175)\n",
    "    \n",
    "for image in irr_175:\n",
    "    shutil.copy(image, ipath)"
   ]
  },
  {
   "cell_type": "code",
   "execution_count": null,
   "id": "f4f78f5d",
   "metadata": {},
   "outputs": [],
   "source": []
  }
 ],
 "metadata": {
  "kernelspec": {
   "display_name": "Python 3 (ipykernel)",
   "language": "python",
   "name": "python3"
  },
  "language_info": {
   "codemirror_mode": {
    "name": "ipython",
    "version": 3
   },
   "file_extension": ".py",
   "mimetype": "text/x-python",
   "name": "python",
   "nbconvert_exporter": "python",
   "pygments_lexer": "ipython3",
   "version": "3.10.12"
  }
 },
 "nbformat": 4,
 "nbformat_minor": 5
}
