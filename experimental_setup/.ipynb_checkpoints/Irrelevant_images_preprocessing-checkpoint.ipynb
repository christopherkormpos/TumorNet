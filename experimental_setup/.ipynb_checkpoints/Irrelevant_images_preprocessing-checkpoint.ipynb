{
 "cells": [
  {
   "cell_type": "code",
   "execution_count": 1,
   "id": "f4d7f7a9",
   "metadata": {},
   "outputs": [],
   "source": [
    "import os\n",
    "import cv2\n",
    "import shutil\n",
    "import random\n",
    "import numpy as np\n",
    "import glob\n",
    "import pathlib \n",
    "import random\n",
    "from PIL import Image\n",
    "from IPython.display import display\n",
    "import matplotlib.pyplot as plt \n",
    "import hashlib"
   ]
  },
  {
   "cell_type": "code",
   "execution_count": 3,
   "id": "e07c95a1",
   "metadata": {},
   "outputs": [],
   "source": [
    "## DATA PREPROCESSING IN TWO DATAESTS ##\n",
    "## FIRST PART: APPLY CHANGES TO IRRELEVANT DATA ##\n",
    "paths = [\"./Irrelevant_data/unsplash-images/\",\n",
    "         \"./Irrelevant_data/mri/\",\n",
    "         \"./Irrelevant_data/chest_xray/train/NORMAL\",\n",
    "         \"./Irrelevant_data/histopathology/train/malignant/\",\n",
    "         \"./Irrelevant_data/mammography/images/\",\n",
    "         \"./Irrelevant_data/abdominal_US/abdominal_US/RUS/images/train/\"]"
   ]
  },
  {
   "cell_type": "code",
   "execution_count": 5,
   "id": "8f44ccef",
   "metadata": {},
   "outputs": [],
   "source": [
    "#Duplicate removal\n",
    "def remove_duplicates(folder_path):\n",
    "    seen_hashes = {}\n",
    "    for imagefile in glob.glob(os.path.join(folder_path, \"*.[jJ][pP][gG]\")) + \\\n",
    "                      glob.glob(os.path.join(folder_path, \"*.[jJ][pP][eE][gG]\")) + \\\n",
    "                      glob.glob(os.path.join(folder_path, \"*.[pP][nN][gG]\")):\n",
    "        file_hash = hashlib.md5(open(imagefile, 'rb').read()).hexdigest()\n",
    "        if file_hash in seen_hashes:\n",
    "            os.remove(imagefile)\n",
    "            print(f\"Removed duplicate: {imagefile}\")\n",
    "        else:\n",
    "            seen_hashes[file_hash] = imagefile\n",
    "\n",
    "# Remove duplicates in paths\n",
    "for path in paths:\n",
    "    remove_duplicates(path)"
   ]
  },
  {
   "cell_type": "code",
   "execution_count": 9,
   "id": "14050540",
   "metadata": {},
   "outputs": [
    {
     "name": "stdout",
     "output_type": "stream",
     "text": [
      "2184\n",
      "14392\n",
      "1340\n",
      "777\n",
      "239\n",
      "400\n"
     ]
    }
   ],
   "source": [
    "for i in range(len(paths)):\n",
    "    folder_files = glob.glob(os.path.join(paths[i], \"*.jpg\")) or glob.glob(os.path.join(paths[i], \"*.jpeg\")) or glob.glob(os.path.join(paths[i], \"*.png\"))\n",
    "    print(len(folder_files))"
   ]
  },
  {
   "cell_type": "code",
   "execution_count": 25,
   "id": "dae0f301",
   "metadata": {},
   "outputs": [],
   "source": [
    "# List of valid image extensions\n",
    "valid_image_extensions = [\".jpg\", \".jpeg\", \".png\", \"jfif\"]\n",
    "\n",
    "# Function to check if the file is an image\n",
    "def is_image_file(filename):\n",
    "    return any(filename.lower().endswith(ext) for ext in valid_image_extensions)\n",
    "\n",
    "# Function to mirror image horizontally\n",
    "def mirror_image(image_path):\n",
    "    image = cv2.imread(image_path)\n",
    "    if image is None:\n",
    "        print(f\"Failed to load image: {image_path}\")\n",
    "        return None\n",
    "    mirrored_image = cv2.flip(image, 1)  # 1 for horizontal flip\n",
    "    return mirrored_image"
   ]
  },
  {
   "cell_type": "code",
   "execution_count": 41,
   "id": "7c224805",
   "metadata": {},
   "outputs": [],
   "source": [
    "# Apply mirror transformation to each unsplash image and save\n",
    "for image_file in os.listdir(paths[0]):\n",
    "    if is_image_file(image_file):  # Only process image files\n",
    "        image_path = os.path.join(paths[0], image_file)\n",
    "        mirrored_image = mirror_image(image_path)\n",
    "        if mirrored_image is not None:\n",
    "            mirrored_image_path = os.path.join(paths[0], \"mirrored_\" + image_file)\n",
    "            cv2.imwrite(mirrored_image_path, mirrored_image)"
   ]
  },
  {
   "cell_type": "code",
   "execution_count": 16,
   "id": "cbe1cec3",
   "metadata": {},
   "outputs": [
    {
     "ename": "KeyboardInterrupt",
     "evalue": "",
     "output_type": "error",
     "traceback": [
      "\u001b[0;31m---------------------------------------------------------------------------\u001b[0m",
      "\u001b[0;31mKeyboardInterrupt\u001b[0m                         Traceback (most recent call last)",
      "Cell \u001b[0;32mIn[16], line 8\u001b[0m\n\u001b[1;32m      6\u001b[0m \u001b[38;5;28;01mif\u001b[39;00m mirrored_image \u001b[38;5;129;01mis\u001b[39;00m \u001b[38;5;129;01mnot\u001b[39;00m \u001b[38;5;28;01mNone\u001b[39;00m:\n\u001b[1;32m      7\u001b[0m     mirrored_image_path \u001b[38;5;241m=\u001b[39m os\u001b[38;5;241m.\u001b[39mpath\u001b[38;5;241m.\u001b[39mjoin(paths[\u001b[38;5;241m4\u001b[39m], \u001b[38;5;124m\"\u001b[39m\u001b[38;5;124mmirrored_\u001b[39m\u001b[38;5;124m\"\u001b[39m \u001b[38;5;241m+\u001b[39m image_file)\n\u001b[0;32m----> 8\u001b[0m     \u001b[43mcv2\u001b[49m\u001b[38;5;241;43m.\u001b[39;49m\u001b[43mimwrite\u001b[49m\u001b[43m(\u001b[49m\u001b[43mmirrored_image_path\u001b[49m\u001b[43m,\u001b[49m\u001b[43m \u001b[49m\u001b[43mmirrored_image\u001b[49m\u001b[43m)\u001b[49m\n",
      "\u001b[0;31mKeyboardInterrupt\u001b[0m: "
     ]
    }
   ],
   "source": [
    "# Apply mirror transformation to each mammography image and save\n",
    "for image_file in os.listdir(paths[4]):\n",
    "    if is_image_file(image_file):  # Only process image files\n",
    "        image_path = os.path.join(paths[4], image_file)\n",
    "        mirrored_image = mirror_image(image_path)\n",
    "        if mirrored_image is not None:\n",
    "            mirrored_image_path = os.path.join(paths[4], \"mirrored_\" + image_file)\n",
    "            cv2.imwrite(mirrored_image_path, mirrored_image)"
   ]
  },
  {
   "cell_type": "code",
   "execution_count": null,
   "id": "5c5a56a8",
   "metadata": {},
   "outputs": [],
   "source": [
    "# Apply sufficient zoom to all real ultrasound images and save\n",
    "for image_file in os.listdir(paths[5]):\n",
    "    image_path = os.path.join(paths[5], image_file)\n",
    "    image = cv2.imread(image_path)\n",
    "    # Check if image was loaded successfully\n",
    "    if image is None:\n",
    "        continue\n",
    "    zoomed_image = zoom_image_us(image)\n",
    "    output_path = os.path.join(paths[5], \"zoomed_\" + image_file)\n",
    "    cv2.imwrite(output_path, zoomed_image)"
   ]
  },
  {
   "cell_type": "code",
   "execution_count": 27,
   "id": "d5eb168b",
   "metadata": {},
   "outputs": [],
   "source": [
    "#Random crop/zoom function\n",
    "def random_zoom_image(image, zoom_factor=1.2):\n",
    "    height, width = image.shape[:2]\n",
    "    new_height, new_width = int(height / zoom_factor), int(width / zoom_factor)\n",
    "    top = random.randint(0, height - new_height)\n",
    "    left = random.randint(0, width - new_width)\n",
    "    bottom, right = top + new_height, left + new_width\n",
    "    cropped_image = image[top:bottom, left:right]\n",
    "    zoomed_image = cv2.resize(cropped_image, (width, height), interpolation=cv2.INTER_LINEAR)\n",
    "    return zoomed_image"
   ]
  },
  {
   "cell_type": "code",
   "execution_count": 28,
   "id": "80620c7e",
   "metadata": {},
   "outputs": [],
   "source": [
    "#Black and white image convertion function\n",
    "def black_and_white(image_path):\n",
    "    image_file = Image.open(image_path)\n",
    "    bnw_image = image_file.convert('1')\n",
    "    plt.imshow(bnw_image)\n",
    "    return bnw_image"
   ]
  },
  {
   "cell_type": "code",
   "execution_count": null,
   "id": "b378a8d9",
   "metadata": {},
   "outputs": [],
   "source": [
    "#Apply function to unsplash images and save\n",
    "image_files = os.listdir(paths[0])\n",
    "selected_images_zoom = random.sample(image_files, 300)\n",
    "selected_images_bnw = random.sample(image_files, 300)\n",
    "\n",
    "for image_file in selected_images_zoom:\n",
    "    if is_image_file(image_file):\n",
    "        image_path = os.path.join(paths[0], image_file)\n",
    "        image = cv2.imread(image_path)\n",
    "        zoomed_image = random_zoom_image(image)\n",
    "        output_path = os.path.join(paths[0], \"zoomed_\" + image_file)\n",
    "        cv2.imwrite(output_path, zoomed_image)\n",
    "\n",
    "for image_file in selected_images_bnw:\n",
    "    if is_image_file(image_file):\n",
    "        image_path = os.path.join(paths[0], image_file)\n",
    "        bnw_image = black_and_white(image_path)\n",
    "        output_path = os.path.join(paths[0], \"bnw_\" + image_file)\n",
    "        bnw_image.save(output_path)"
   ]
  },
  {
   "cell_type": "code",
   "execution_count": 10,
   "id": "297dc4ba",
   "metadata": {},
   "outputs": [],
   "source": [
    "#Create folders for final dataset and two categories (irrelevant images and breast ultrasound images)\n",
    "os.mkdir(\"final_dataset1\")\n",
    "irrelevant_data = os.path.join(\"final_dataset1\", \"irrelevant_data\")\n",
    "breast_ultrasounds = os.path.join(\"final_dataset1\", \"breast_ultrasounds\")\n",
    "os.mkdir(irrelevant_data)\n",
    "os.mkdir(breast_ultrasounds)"
   ]
  },
  {
   "cell_type": "code",
   "execution_count": 11,
   "id": "baeb45a6",
   "metadata": {},
   "outputs": [],
   "source": [
    "folder_path = './final_dataset1/irrelevant_data'\n",
    "\n",
    "unspash_images = glob.glob(os.path.join(paths[0], \"*.jpg\"))\n",
    "mri_images = glob.glob(os.path.join(paths[1], \"*.jpg\"))\n",
    "xray_images = glob.glob(os.path.join(paths[2], \"*.jpeg\"))\n",
    "hist_images = glob.glob(os.path.join(paths[3], \"*.png\"))\n",
    "mamm_images = glob.glob(os.path.join(paths[4], \"*.png\"))\n",
    "us_images = glob.glob(os.path.join(paths[5], \"*.jpg\"))\n",
    "\n",
    "#Copy in the dataset all unsplash and mammography images\n",
    "for image in unspash_images:\n",
    "    shutil.copy(image, folder_path)\n",
    "\n",
    "#Copy in the dataset 300 images from mri,xray,ultrasound and histopathology repsectively + half mammography\n",
    "mri_images10 = random.sample(mri_images, 350)\n",
    "xray_images10 = random.sample(xray_images, 350)\n",
    "hist_images10 = random.sample(hist_images, 350)\n",
    "mamm_images = random.sample(mamm_images, 212)\n",
    "\n",
    "for image in mri_images10:\n",
    "    shutil.copy(image, folder_path)\n",
    "for image in xray_images10:\n",
    "    shutil.copy(image, folder_path)\n",
    "for image in hist_images10:\n",
    "    shutil.copy(image, folder_path)\n",
    "for image in mamm_images:\n",
    "    shutil.copy(image, folder_path)"
   ]
  },
  {
   "cell_type": "code",
   "execution_count": 12,
   "id": "a0dc0510",
   "metadata": {},
   "outputs": [
    {
     "name": "stdout",
     "output_type": "stream",
     "text": [
      "3446\n"
     ]
    }
   ],
   "source": [
    "#Show all images in irrelevant_data foler\n",
    "files = [f for f in os.listdir('./final_dataset1/irrelevant_data') if os.path.isfile(os.path.join('./final_dataset1/irrelevant_data', f))]\n",
    "print(len(files))"
   ]
  },
  {
   "cell_type": "code",
   "execution_count": 13,
   "id": "06af0581",
   "metadata": {},
   "outputs": [],
   "source": [
    "## SECOND PART: COPY BREAST ULTRASOUND DATA ##\n",
    "folder_path = './final_dataset1/breast_ultrasounds'\n",
    "\n",
    "benign_images = glob.glob(os.path.join(\"./Dataset_BUSI_with_GT/benign/\", \"*.png\"))\n",
    "malignant_images = glob.glob(os.path.join(\"./Dataset_BUSI_with_GT/malignant/\", \"*.png\"))\n",
    "normal_images = glob.glob(os.path.join(\"./Dataset_BUSI_with_GT/normal/\", \"*.png\"))\n",
    "\n",
    "for image in benign_images:\n",
    "    shutil.copy(image, folder_path)\n",
    "for image in malignant_images:\n",
    "    shutil.copy(image, folder_path)\n",
    "for image in normal_images:\n",
    "    shutil.copy(image, folder_path)"
   ]
  },
  {
   "cell_type": "code",
   "execution_count": 14,
   "id": "0b3bc976",
   "metadata": {},
   "outputs": [
    {
     "name": "stdout",
     "output_type": "stream",
     "text": [
      "3460\n"
     ]
    }
   ],
   "source": [
    "#Show all images in breast_ultrasounds foler\n",
    "files = [f for f in os.listdir('./final_dataset1/breast_ultrasounds') if os.path.isfile(os.path.join('./final_dataset1/breast_ultrasounds', f))]\n",
    "print(len(files))"
   ]
  },
  {
   "cell_type": "code",
   "execution_count": 15,
   "id": "9269ba11",
   "metadata": {},
   "outputs": [
    {
     "name": "stdout",
     "output_type": "stream",
     "text": [
      "Images have been split and copied on the folders successfully.\n"
     ]
    }
   ],
   "source": [
    "# Train Validation and Test sets creation\n",
    "base_dir = os.path.join(os.getcwd(), \"final_dataset1\")\n",
    "\n",
    "irrelevant_data_dir = os.path.join(base_dir, 'irrelevant_data')\n",
    "breast_ultrasounds_dir = os.path.join(base_dir, 'breast_ultrasounds')\n",
    "\n",
    "train_dir = os.path.join(base_dir, 'train')\n",
    "val_dir = os.path.join(base_dir, 'val')\n",
    "test_dir = os.path.join(base_dir, 'test')\n",
    "\n",
    "# Subdirectories for benign and malignant\n",
    "for category in ['irrelevant_data', 'breast_ultrasounds']:\n",
    "    os.makedirs(os.path.join(train_dir, category), exist_ok=True)\n",
    "    os.makedirs(os.path.join(val_dir, category), exist_ok=True)\n",
    "    os.makedirs(os.path.join(test_dir, category), exist_ok=True)\n",
    "\n",
    "# Function to split images on a 70-15-15 percentage and copy them on the train,val and test folders\n",
    "def split_and_copy_images(category, src_dir, train_dir, val_dir, test_dir, train_split=0.7, val_split=0.15, test_split=0.15):\n",
    "    images = glob.glob(os.path.join(src_dir, '*'))  # * to include all files in the directory\n",
    "    random.shuffle(images) #Shuffle images randomly\n",
    "    total_images = len(images)\n",
    "    train_count = int(total_images * train_split)\n",
    "    val_count = int(total_images * val_split)\n",
    "    train_images = images[:train_count]\n",
    "    val_images = images[train_count:train_count + val_count]\n",
    "    test_images = images[train_count + val_count:]\n",
    "    \n",
    "    for img in train_images:\n",
    "        shutil.copy(img, os.path.join(train_dir, category))\n",
    "        \n",
    "    for img in val_images:\n",
    "        shutil.copy(img, os.path.join(val_dir, category))\n",
    "        \n",
    "    for img in test_images:\n",
    "        shutil.copy(img, os.path.join(test_dir, category))\n",
    "\n",
    "# Split and copy benign images\n",
    "split_and_copy_images('irrelevant_data', irrelevant_data_dir, train_dir, val_dir, test_dir)\n",
    "\n",
    "# Split and copy malignant images\n",
    "split_and_copy_images('breast_ultrasounds', breast_ultrasounds_dir, train_dir, val_dir, test_dir)\n",
    "\n",
    "print(\"Images have been split and copied on the folders successfully.\")"
   ]
  },
  {
   "cell_type": "code",
   "execution_count": null,
   "id": "c1369622",
   "metadata": {},
   "outputs": [],
   "source": []
  }
 ],
 "metadata": {
  "kernelspec": {
   "display_name": "Python 3 (ipykernel)",
   "language": "python",
   "name": "python3"
  },
  "language_info": {
   "codemirror_mode": {
    "name": "ipython",
    "version": 3
   },
   "file_extension": ".py",
   "mimetype": "text/x-python",
   "name": "python",
   "nbconvert_exporter": "python",
   "pygments_lexer": "ipython3",
   "version": "3.10.12"
  }
 },
 "nbformat": 4,
 "nbformat_minor": 5
}
