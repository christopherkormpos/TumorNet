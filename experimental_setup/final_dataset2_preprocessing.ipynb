{
 "cells": [
  {
   "cell_type": "code",
   "execution_count": 1,
   "id": "ecb2d31e",
   "metadata": {},
   "outputs": [],
   "source": [
    "import os\n",
    "import cv2\n",
    "import shutil\n",
    "import random\n",
    "import numpy as np\n",
    "import glob\n",
    "import pathlib \n",
    "import random\n",
    "from PIL import Image\n",
    "from IPython.display import display\n",
    "import matplotlib.pyplot as plt \n",
    "import hashlib"
   ]
  },
  {
   "cell_type": "code",
   "execution_count": 2,
   "id": "a1b6f8bc",
   "metadata": {},
   "outputs": [],
   "source": [
    "#Create folders for final dataset and two categories (irrelevant images and breast ultrasound images)\n",
    "os.mkdir(\"final_dataset2\")\n",
    "irrelevant_data = os.path.join(\"final_dataset2\", \"irrelevant_data\")\n",
    "normal_ultrasounds = os.path.join(\"final_dataset2\", \"normal_ultrasounds\")\n",
    "tumorous_ultrasounds = os.path.join(\"final_dataset2\", \"tumorous_ultrasounds\")\n",
    "os.mkdir(irrelevant_data)\n",
    "os.mkdir(normal_ultrasounds)\n",
    "os.mkdir(tumorous_ultrasounds)"
   ]
  },
  {
   "cell_type": "code",
   "execution_count": 3,
   "id": "f0d4609e",
   "metadata": {},
   "outputs": [],
   "source": [
    "irrelevant_data_folder = \"./final_dataset1/irrelevant_data\"\n",
    "destination_folder_path = \"./final_dataset2/irrelevant_data\"\n",
    "\n",
    "irrelevant_images = []\n",
    "for ext in (\"*.png\", \"*.jpg\", \"*.jpeg\"):\n",
    "    irrelevant_images.extend(glob.glob(os.path.join(irrelevant_data_folder, ext)))\n",
    "\n",
    "random_irrelevant_images = random.sample(irrelevant_images, 1150)\n",
    "\n",
    "for image in random_irrelevant_images:\n",
    "    shutil.copy(image, destination_folder_path)"
   ]
  },
  {
   "cell_type": "code",
   "execution_count": 4,
   "id": "dedaf9c7",
   "metadata": {},
   "outputs": [],
   "source": [
    "folder_path = './final_dataset2/normal_ultrasounds'\n",
    "\n",
    "normal_images = glob.glob(os.path.join(\"./Dataset_BUSI_with_GT/normal/\", \"*.png\"))\n",
    "\n",
    "for image in normal_images:\n",
    "    shutil.copy(image, folder_path)"
   ]
  },
  {
   "cell_type": "code",
   "execution_count": 5,
   "id": "9e86f792",
   "metadata": {},
   "outputs": [],
   "source": [
    "folder_path = './final_dataset2/tumorous_ultrasounds'\n",
    "\n",
    "benign_images = glob.glob(os.path.join(\"./Dataset_BUSI_with_GT/benign/\", \"*.png\"))\n",
    "malignant_images = glob.glob(os.path.join(\"./Dataset_BUSI_with_GT/malignant/\", \"*.png\"))\n",
    "\n",
    "benign_images_half = random.sample(benign_images, 575)\n",
    "malignant_images_half = random.sample(malignant_images, 575)\n",
    "\n",
    "for image in benign_images_half:\n",
    "    shutil.copy(image, folder_path)\n",
    "for image in malignant_images_half:\n",
    "    shutil.copy(image, folder_path)"
   ]
  },
  {
   "cell_type": "code",
   "execution_count": 6,
   "id": "3b731b7f",
   "metadata": {},
   "outputs": [
    {
     "name": "stdout",
     "output_type": "stream",
     "text": [
      "Images have been split and copied on the folders successfully.\n"
     ]
    }
   ],
   "source": [
    "# Train Validation and Test sets creation\n",
    "base_dir = os.path.join('/workspace', 'Paper', 'final_dataset2')\n",
    "irrelevant_dir = os.path.join(base_dir, 'irrelevant_data')\n",
    "tumor_dir = os.path.join(base_dir, 'tumorous_ultrasounds')\n",
    "normal_dir = os.path.join(base_dir, 'normal_ultrasounds')\n",
    "\n",
    "train_dir = os.path.join(base_dir, 'train')\n",
    "val_dir = os.path.join(base_dir, 'val')\n",
    "test_dir = os.path.join(base_dir, 'test')\n",
    "\n",
    "# Subdirectories for benign and malignant\n",
    "for category in ['irrelevant', 'tumor','normal']:\n",
    "    os.makedirs(os.path.join(train_dir, category), exist_ok=True)\n",
    "    os.makedirs(os.path.join(val_dir, category), exist_ok=True)\n",
    "    os.makedirs(os.path.join(test_dir, category), exist_ok=True)\n",
    "\n",
    "# Function to split images on a 70-15-15 percentage and copy them on the train,val and test folders\n",
    "def split_and_copy_images(category, src_dir, train_dir, val_dir, test_dir, train_split=0.7, val_split=0.15, test_split=0.15):\n",
    "    images = glob.glob(os.path.join(src_dir, '*'))  # * to include all files in the directory\n",
    "    random.shuffle(images) #Shuffle images randomly\n",
    "    total_images = len(images)\n",
    "    train_count = int(total_images * train_split)\n",
    "    val_count = int(total_images * val_split)\n",
    "    train_images = images[:train_count]\n",
    "    val_images = images[train_count:train_count + val_count]\n",
    "    test_images = images[train_count + val_count:]\n",
    "    \n",
    "    for img in train_images:\n",
    "        shutil.copy(img, os.path.join(train_dir, category))\n",
    "        \n",
    "    for img in val_images:\n",
    "        shutil.copy(img, os.path.join(val_dir, category))\n",
    "        \n",
    "    for img in test_images:\n",
    "        shutil.copy(img, os.path.join(test_dir, category))\n",
    "\n",
    "split_and_copy_images('irrelevant', irrelevant_dir, train_dir, val_dir, test_dir)\n",
    "\n",
    "split_and_copy_images('tumor', tumor_dir, train_dir, val_dir, test_dir)\n",
    "\n",
    "split_and_copy_images('normal', normal_dir, train_dir, val_dir, test_dir)\n",
    "\n",
    "print(\"Images have been split and copied on the folders successfully.\")"
   ]
  },
  {
   "cell_type": "code",
   "execution_count": null,
   "id": "2efe08ed",
   "metadata": {},
   "outputs": [],
   "source": []
  }
 ],
 "metadata": {
  "kernelspec": {
   "display_name": "Python 3 (ipykernel)",
   "language": "python",
   "name": "python3"
  },
  "language_info": {
   "codemirror_mode": {
    "name": "ipython",
    "version": 3
   },
   "file_extension": ".py",
   "mimetype": "text/x-python",
   "name": "python",
   "nbconvert_exporter": "python",
   "pygments_lexer": "ipython3",
   "version": "3.10.12"
  }
 },
 "nbformat": 4,
 "nbformat_minor": 5
}
